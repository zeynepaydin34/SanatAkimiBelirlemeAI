{
 "cells": [
  {
   "cell_type": "code",
   "execution_count": null,
   "id": "3fd07dc1-242a-4fc7-b852-5f926e2a9ac3",
   "metadata": {},
   "outputs": [],
   "source": [
    "import cv2\n",
    "import os\n",
    "\n",
    "# Görsellerin bulunduğu klasör yolu belirtildi.\n",
    "folder_path = r\"E:\\Cubism\" \n",
    "if os.path.exists(folder_path):\n",
    "    print(\"Klasör mevcut.\")\n",
    "else:\n",
    "    print(\"Klasör mevcut değil.\")\n",
    "\n",
    "# Görüntülerin boyutu 500*500 olacak şekilde ayarlandı.\n",
    "target_size = (500, 500) \n",
    "\n",
    "# Klasördeki tüm dosyaları listeleme\n",
    "for filename in os.listdir(folder_path):\n",
    "    file_path = os.path.join(folder_path, filename)\n",
    "    # Görüntü okuma\n",
    "    image = cv2.imread(file_path)\n",
    "\n",
    "    # Görüntünün okunup okunmadığını kontrol etme\n",
    "    if image is None:\n",
    "        print(f\"{filename} bir görüntü dosyası değil veya okunamıyor.\")\n",
    "        continue\n",
    "\n",
    "    # Görüntü yeniden boyutlandıruldı.\n",
    "    resized_image = cv2.resize(image, target_size)\n",
    "\n",
    "    # Görüntü aynı isimle klasöre geri kaydedildi.\n",
    "    cv2.imwrite(file_path, resized_image)\n",
    "    print(f\"{filename} başarıyla {target_size} boyutuna getirildi.\")\n",
    "\n",
    "print(\"Tüm görüntüler yeniden boyutlandırıldı.\")"
   ]
  }
 ],
 "metadata": {
  "kernelspec": {
   "display_name": "Python 3 (ipykernel)",
   "language": "python",
   "name": "python3"
  },
  "language_info": {
   "codemirror_mode": {
    "name": "ipython",
    "version": 3
   },
   "file_extension": ".py",
   "mimetype": "text/x-python",
   "name": "python",
   "nbconvert_exporter": "python",
   "pygments_lexer": "ipython3",
   "version": "3.12.7"
  }
 },
 "nbformat": 4,
 "nbformat_minor": 5
}
